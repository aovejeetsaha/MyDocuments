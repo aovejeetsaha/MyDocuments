{
  "nbformat": 4,
  "nbformat_minor": 0,
  "metadata": {
    "colab": {
      "provenance": []
    },
    "kernelspec": {
      "name": "python3",
      "display_name": "Python 3"
    },
    "language_info": {
      "name": "python"
    }
  },
  "cells": [
    {
      "cell_type": "code",
      "source": [
        "# Name : Ridwanul Haque Alve\n",
        "# Id   : 22101807\n",
        "# Section: 27"
      ],
      "metadata": {
        "id": "PTEDMp1W1vi8"
      },
      "execution_count": null,
      "outputs": []
    },
    {
      "cell_type": "code",
      "execution_count": 5,
      "metadata": {
        "colab": {
          "base_uri": "https://localhost:8080/"
        },
        "id": "WmActx8ESeGN",
        "outputId": "22647c7e-2740-4860-b6bd-f6855f5c88ff"
      },
      "outputs": [
        {
          "output_type": "stream",
          "name": "stdout",
          "text": [
            "Factorial of 5 is 120\n"
          ]
        }
      ],
      "source": [
        "#1(a)\n",
        "def factorial(n):\n",
        "    if n == 0 or n == 1:\n",
        "        return 1\n",
        "    else:\n",
        "        return n * factorial(n - 1)\n",
        "\n",
        "\n",
        "n = 5\n",
        "print(\"Factorial of\", n, \"is\", factorial(n))\n"
      ]
    },
    {
      "cell_type": "code",
      "source": [
        "#1(b)\n",
        "def fibonacci(n):\n",
        "    if n <= 0:\n",
        "        return 0\n",
        "    elif n == 1:\n",
        "        return 1\n",
        "    else:\n",
        "        return fibonacci(n - 1) + fibonacci(n - 2)\n",
        "\n",
        "\n",
        "n = int(input(\"Enter n: \"))\n",
        "print(\"Fibonacci number at index\", n, \"is\", fibonacci(n))\n"
      ],
      "metadata": {
        "colab": {
          "base_uri": "https://localhost:8080/"
        },
        "id": "LH8SbMjQS_T8",
        "outputId": "8659e1d3-06d8-487b-8fbc-afa185dd9085"
      },
      "execution_count": 1,
      "outputs": [
        {
          "output_type": "stream",
          "name": "stdout",
          "text": [
            "Enter n: 6\n",
            "Fibonacci number at index 6 is 8\n"
          ]
        }
      ]
    },
    {
      "cell_type": "code",
      "source": [
        "#1(c)\n",
        "def print_array(arr, index=0):\n",
        "    if index < len(arr):\n",
        "        print(arr[index])\n",
        "        print_array(arr, index + 1)\n",
        "\n",
        "\n",
        "my_array = [1, 2, 3, 4, 5]\n",
        "print_array(my_array)\n"
      ],
      "metadata": {
        "colab": {
          "base_uri": "https://localhost:8080/"
        },
        "id": "IhIebAE3TFgt",
        "outputId": "28736858-f225-4245-fe6e-19d2a099d3d6"
      },
      "execution_count": 18,
      "outputs": [
        {
          "output_type": "stream",
          "name": "stdout",
          "text": [
            "1\n",
            "2\n",
            "3\n",
            "4\n",
            "5\n"
          ]
        }
      ]
    },
    {
      "cell_type": "code",
      "source": [
        "#1(d)\n",
        "def powerN(base, n):\n",
        "    if n == 0:\n",
        "        return 1\n",
        "    else:\n",
        "        return base * powerN(base, n - 1)\n",
        "\n",
        "base = 3\n",
        "exponent = 4\n",
        "print(base, \"to the power of\", exponent, \"is\", powerN(base, exponent))\n",
        "\n"
      ],
      "metadata": {
        "colab": {
          "base_uri": "https://localhost:8080/"
        },
        "id": "3A0viTGwTPds",
        "outputId": "83099ae2-95bc-4b19-eeec-0b20fb5b1d8b"
      },
      "execution_count": 2,
      "outputs": [
        {
          "output_type": "stream",
          "name": "stdout",
          "text": [
            "3 to the power of 4 is 81\n"
          ]
        }
      ]
    },
    {
      "cell_type": "code",
      "source": [
        "#2(a)\n",
        "def decimal_to_binary(n):\n",
        "    if n == 0:\n",
        "        return \"0\"\n",
        "    elif n == 1:\n",
        "        return \"1\"\n",
        "    else:\n",
        "        return decimal_to_binary(n // 2) + str(n % 2)\n",
        "\n",
        "\n",
        "decimal_number = int(input(\"Enter number: \"))\n",
        "binary_representation = decimal_to_binary(decimal_number)\n",
        "print(\"Decimal\", decimal_number, \"is equivalent to binary\", binary_representation)\n"
      ],
      "metadata": {
        "colab": {
          "base_uri": "https://localhost:8080/"
        },
        "id": "h4zmpKj7T8wz",
        "outputId": "faddfd0b-9c33-45cd-f32d-e2de00a17b5e"
      },
      "execution_count": 8,
      "outputs": [
        {
          "output_type": "stream",
          "name": "stdout",
          "text": [
            "Enter number: 36\n",
            "Decimal 36 is equivalent to binary 100100\n"
          ]
        }
      ]
    },
    {
      "cell_type": "code",
      "source": [
        "#2(b)\n",
        "class SinglyNode:\n",
        "    def __init__(self, value):\n",
        "        self.value = value\n",
        "        self.next = None\n",
        "\n",
        "def add_elements_recursive(node):\n",
        "    if node is None:\n",
        "        return 0\n",
        "    else:\n",
        "        return node.value + add_elements_recursive(node.next)\n",
        "\n",
        "# Test the recursive addition of elements\n",
        "# Create linked list: 1 -> 2 -> 3 -> 4 -> 5\n",
        "head = SinglyNode(1)\n",
        "head.next = SinglyNode(2)\n",
        "head.next.next = SinglyNode(3)\n",
        "head.next.next.next = SinglyNode(4)\n",
        "head.next.next.next.next = SinglyNode(5)\n",
        "\n",
        "total_sum = add_elements_recursive(head)\n",
        "print(\"Sum of elements in the linked list:\", total_sum)\n"
      ],
      "metadata": {
        "id": "dyH3nqt8xMCK"
      },
      "execution_count": null,
      "outputs": []
    },
    {
      "cell_type": "code",
      "source": [
        "#2(c)\n",
        "class SinglyNode:\n",
        "    def __init__(self, value):\n",
        "        self.value = value\n",
        "        self.next = None\n",
        "\n",
        "def print_reversed(node):\n",
        "    if node is not None:\n",
        "        print_reversed(node.next)\n",
        "        print(node.value)\n",
        "\n",
        "head = SinglyNode(10)\n",
        "head.next = SinglyNode(20)\n",
        "head.next.next = SinglyNode(30)\n",
        "head.next.next.next = SinglyNode(40)\n",
        "\n",
        "print(\"Elements of the linked list in reversed order:\")\n",
        "print_reversed(head)\n"
      ],
      "metadata": {
        "id": "g0ojjQnnxpRe"
      },
      "execution_count": null,
      "outputs": []
    },
    {
      "cell_type": "code",
      "source": [
        "#3\n",
        "def hocBuilder(height):\n",
        "    if height == 0:\n",
        "        return 0\n",
        "    elif height == 1:\n",
        "        return 8\n",
        "    else:\n",
        "        return 8 + (5 * (height - 1)) + hocBuilder(height - 1)\n",
        "\n",
        "# Test the hocBuilder function\n",
        "height = int(input(\"Enter number: \"))\n",
        "cards_required = hocBuilder(height)\n",
        "print(\"Number of cards required to build a house of height\", height, \"is:\", cards_required)\n"
      ],
      "metadata": {
        "colab": {
          "base_uri": "https://localhost:8080/"
        },
        "id": "oRbgsAXrx5-f",
        "outputId": "249a8942-0354-4e84-ed1a-57055e447403"
      },
      "execution_count": 3,
      "outputs": [
        {
          "output_type": "stream",
          "name": "stdout",
          "text": [
            "Enter number: 4\n",
            "Number of cards required to build a house of height 4 is: 62\n"
          ]
        }
      ]
    },
    {
      "cell_type": "code",
      "source": [
        "#4(a)\n",
        "def print_pattern(n, row=1):\n",
        "    if row > n:\n",
        "        return\n",
        "    else:\n",
        "        for i in range(1, row + 1):\n",
        "            print(i, end=\" \")\n",
        "        print()\n",
        "        print_pattern(n, row + 1)\n",
        "\n",
        "\n",
        "sample_input = int(input(\"Enter input: \"))\n",
        "print_pattern(sample_input)\n"
      ],
      "metadata": {
        "colab": {
          "base_uri": "https://localhost:8080/"
        },
        "id": "UZpI6tIwyVpS",
        "outputId": "2869df1b-c59f-4344-8f2a-0f075ba314ec"
      },
      "execution_count": 5,
      "outputs": [
        {
          "output_type": "stream",
          "name": "stdout",
          "text": [
            "Enter input: 6\n",
            "1 \n",
            "1 2 \n",
            "1 2 3 \n",
            "1 2 3 4 \n",
            "1 2 3 4 5 \n",
            "1 2 3 4 5 6 \n"
          ]
        }
      ]
    },
    {
      "cell_type": "code",
      "source": [
        "#4(b)\n",
        "def print_pattern(n, spaces=0):\n",
        "    if n == 0:\n",
        "        return\n",
        "    print_pattern(n - 1, spaces + 1)\n",
        "    print(\" \" * (spaces * 2), end=\"\")\n",
        "    for i in range(1, n + 1):\n",
        "        print(i, end=\" \")\n",
        "    print()\n",
        "\n",
        "# Test the pattern printing function\n",
        "sample_input = int(input(\"Enter input: \"))\n",
        "print_pattern(sample_input)\n",
        "\n",
        "\n"
      ],
      "metadata": {
        "colab": {
          "base_uri": "https://localhost:8080/"
        },
        "id": "wc021wfVyxHY",
        "outputId": "93a74874-df96-4696-95c3-13411bc08893"
      },
      "execution_count": 9,
      "outputs": [
        {
          "output_type": "stream",
          "name": "stdout",
          "text": [
            "        1 \n",
            "      1 2 \n",
            "    1 2 3 \n",
            "  1 2 3 4 \n",
            "1 2 3 4 5 \n"
          ]
        }
      ]
    },
    {
      "cell_type": "code",
      "source": [
        "#5\n",
        "import sys\n",
        "sys.setrecursionlimit(10000)\n",
        "\n",
        "class FinalQ:\n",
        "    def print_profit(self, array, idx):\n",
        "        if idx < len(array):\n",
        "            profit = self.calc_profit(array[idx])\n",
        "            print(f\"{idx+1}. Investment: {array[idx]:<10} Profit: {profit:.2f}\")\n",
        "            self.print_profit(array, idx + 1)\n",
        "\n",
        "    def calc_profit(self, investment):\n",
        "        if investment <= 100000:\n",
        "            return (investment - 25000) * 0.045\n",
        "        else:\n",
        "            return (100000 - 25000) * 0.045 + (investment - 100000) * 0.08\n",
        "\n",
        "# Tester\n",
        "array = [25000, 100000, 250000, 350000]\n",
        "f = FinalQ()\n",
        "f.print_profit(array, 0)\n",
        "\n",
        "\n",
        "\n"
      ],
      "metadata": {
        "colab": {
          "base_uri": "https://localhost:8080/"
        },
        "id": "bKB4erUE0CzY",
        "outputId": "7a73f408-aa74-4ba7-9f56-d66f8cc78b0d"
      },
      "execution_count": 16,
      "outputs": [
        {
          "output_type": "stream",
          "name": "stdout",
          "text": [
            "1. Investment: 25000      Profit: 0.00\n",
            "2. Investment: 100000     Profit: 3375.00\n",
            "3. Investment: 250000     Profit: 15375.00\n",
            "4. Investment: 350000     Profit: 23375.00\n"
          ]
        }
      ]
    },
    {
      "cell_type": "code",
      "source": [
        "# 5\n",
        "class Node:\n",
        "    def __init__(self, next=None, bottom=None, val=None):\n",
        "        self.next = next\n",
        "        self.bottom = bottom\n",
        "        self.val = val\n",
        "\n",
        "def flattenList(given_list):\n",
        "    if not given_list:\n",
        "        return []\n",
        "\n",
        "    if isinstance(given_list[0], list):\n",
        "        return flattenList(given_list[0]) + flattenList(given_list[1:])\n",
        "\n",
        "    return [given_list[0]] + flattenList(given_list[1:])\n",
        "\n",
        "given_list = [1, [2, [3, [4], 5], 6], 7, 8, [9, [[10, 11], 12], 13], 14, [15, [16, [17]]]]\n",
        "print('Nested List:')\n",
        "print(given_list)\n",
        "print(\"Flattened List:\")\n",
        "print(flattenList(given_list))\n"
      ],
      "metadata": {
        "colab": {
          "base_uri": "https://localhost:8080/"
        },
        "id": "ftuX73xO3urP",
        "outputId": "ce8c8056-71c2-4939-cf54-bf3bcd95b8e5"
      },
      "execution_count": 20,
      "outputs": [
        {
          "output_type": "stream",
          "name": "stdout",
          "text": [
            "Nested List:\n",
            "[1, [2, [3, [4], 5], 6], 7, 8, [9, [[10, 11], 12], 13], 14, [15, [16, [17]]]]\n",
            "Flattened List:\n",
            "[1, 2, 3, 4, 5, 6, 7, 8, 9, 10, 11, 12, 13, 14, 15, 16, 17]\n"
          ]
        }
      ]
    }
  ]
}